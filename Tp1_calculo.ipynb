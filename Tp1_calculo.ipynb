{
  "nbformat": 4,
  "nbformat_minor": 0,
  "metadata": {
    "colab": {
      "provenance": [],
      "authorship_tag": "ABX9TyN7DdvGoqd8gQJAUaDif8wM",
      "include_colab_link": true
    },
    "kernelspec": {
      "name": "python3",
      "display_name": "Python 3"
    },
    "language_info": {
      "name": "python"
    }
  },
  "cells": [
    {
      "cell_type": "markdown",
      "metadata": {
        "id": "view-in-github",
        "colab_type": "text"
      },
      "source": [
        "<a href=\"https://colab.research.google.com/github/AgusFerraggine/Tp1_calculo.py/blob/main/Tp1_calculo.ipynb\" target=\"_parent\"><img src=\"https://colab.research.google.com/assets/colab-badge.svg\" alt=\"Open In Colab\"/></a>"
      ]
    },
    {
      "cell_type": "markdown",
      "source": [],
      "metadata": {
        "id": "ZUjwkl02w1jz"
      }
    },
    {
      "cell_type": "code",
      "execution_count": 8,
      "metadata": {
        "colab": {
          "base_uri": "https://localhost:8080/"
        },
        "id": "BJ1QJS1rRBtV",
        "outputId": "b5c0d063-de26-4ae8-bbfc-63fd21e902c1"
      },
      "outputs": [
        {
          "output_type": "stream",
          "name": "stdout",
          "text": [
            "nombre:  José , sus notas son:  [85, 90, 78, -10]\n",
            "error en la nota de José : nota inválida  [-10]\n",
            "nota final =  84.33333333333333\n",
            "--------------------------------\n",
            "nombre:  Carlos , sus notas son:  [88, 72, 94, 102]\n",
            "error en la nota de Carlos : nota inválida  [102]\n",
            "nota final =  84.66666666666667\n",
            "--------------------------------\n",
            "nombre:  María , sus notas son:  [95, 85, 87, 'A++']\n",
            "error en la nota de María : nota inválida  ['A++']\n",
            "nota final =  89.0\n",
            "--------------------------------\n",
            "nombre:  lujan , sus notas son:  [180, -20, 200, -65]\n",
            "error en la nota de lujan : nota inválida  [180, -20, 200, -65]\n",
            "lujan  no tiene notas válidas para calcular su promedio.\n",
            "--------------------------------\n",
            "nombre:  juan , sus notas son:  []\n",
            "juan  no tiene notas válidas para calcular su promedio.\n",
            "--------------------------------\n"
          ]
        }
      ],
      "source": [
        "students = [\n",
        "    {\"nombre\": \"José\", \"notas\": [85, 90, 78, -10]},\n",
        "    {\"nombre\": \"Carlos\", \"notas\": [88, 72, 94, 102]},\n",
        "    {\"nombre\": \"María\", \"notas\": [95, 85, 87,'A++']},\n",
        "    {\"nombre\": \"lujan\", \"notas\": [180,-20,200,-65]},\n",
        "    {\"nombre\": \"juan\", \"notas\": []}\n",
        "]\n",
        "\n",
        "#con esto 'saco' los datos del diccionario y los imprimo\n",
        "for student in students:\n",
        "  nombre = student[\"nombre\"]\n",
        "  notas = student[\"notas\"]\n",
        "\n",
        "#creo listas que me dividen las notas válidas que son enteros dentro del rango 0-100, y las invalidas (string, nros. mayores a 100 y menores a 0)\n",
        "  notas_validas = []\n",
        "  notas_invalidas = []\n",
        "\n",
        "  print (\"nombre: \",nombre ,\", sus notas son: \",notas)\n",
        "\n",
        "#condicional. para cada nota en la lista del diccionario de cada alumno, me fijo si entra en mi rango y si es un nro. entero, entonces pasa a la lista de 'notas validas'\n",
        "  for nota in notas:\n",
        "    if isinstance(nota,int) and 0<nota<100:\n",
        "     notas_validas.append(nota)\n",
        "    else:\n",
        "      notas_invalidas.append(nota)\n",
        "  if notas_invalidas:\n",
        "    print(\"error en la nota de\",nombre,\": \" \"nota inválida \",notas_invalidas)\n",
        "\n",
        "#verifico si la lista 'notas validas' tiene elementos en ella para calcular el promedio del alumno\n",
        "  if notas_validas:\n",
        "    promedio = sum(notas_validas)/len(notas_validas)\n",
        "    print(\"nota final = \",promedio)\n",
        "  else:\n",
        "    print(nombre,\" no tiene notas válidas para calcular su promedio.\")\n",
        "\n",
        "  print(\"--------------------------------\")"
      ]
    }
  ]
}